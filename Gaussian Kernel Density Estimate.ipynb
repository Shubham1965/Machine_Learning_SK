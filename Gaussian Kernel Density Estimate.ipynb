{
 "cells": [
  {
   "cell_type": "markdown",
   "id": "7c132ee2",
   "metadata": {},
   "source": [
    "Include all the dependencies"
   ]
  },
  {
   "cell_type": "code",
   "execution_count": 44,
   "id": "c48ae40d",
   "metadata": {},
   "outputs": [],
   "source": [
    "import numpy as np\n",
    "\n",
    "def gauss1D(m, v, N, w):\n",
    "    pos = np.arange(-w, w - w / N, 2 * w / N)\n",
    "    insE = -0.5 * ((pos - m) / v) ** 2\n",
    "    norm = 1 / (v * np.sqrt(2 * np.pi))\n",
    "    res = norm * np.exp(insE)\n",
    "    realDensity = np.stack((pos, res), axis=1)\n",
    "    return realDensity\n",
    "\n",
    "def parameters():\n",
    "    h = 0.4  # kde window size / radius\n",
    "    return h"
   ]
  },
  {
   "cell_type": "markdown",
   "id": "c199e3e9",
   "metadata": {},
   "source": [
    "The kernel function to estimate the density at the pos vector"
   ]
  },
  {
   "cell_type": "code",
   "execution_count": 36,
   "id": "908128de",
   "metadata": {},
   "outputs": [],
   "source": [
    "def kde(samples, h):\n",
    "    # compute density estimation from samples with KDE\n",
    "    # Input\n",
    "    #  samples    : DxN matrix of data points\n",
    "    #  h          : (half) window size/radius of kernel\n",
    "    # Output\n",
    "    #  estDensity : estimated density in the range of [-5,5]\n",
    "\n",
    "    #####Insert your code here for subtask 5a#####\n",
    "    # Compute the number of samples created\n",
    "    n = len(samples)\n",
    "    \n",
    "    #create a linearly spaced array for estimating density\n",
    "    pos = np.arange(-5, 5.0, 0.1)\n",
    "    \n",
    "    #for every pos in pos i have to find the density estimate using the samples\n",
    "    deno = np.sqrt(2*np.pi) * h * n\n",
    "    D_est = np.sum(np.exp(-(pos[np.newaxis,:] - samples[:,np.newaxis])**2 / (2*h**2)), axis = 0) / deno\n",
    "    \n",
    "    #Estimate of each point in pos \n",
    "    estDensity = np.stack((pos,D_est), axis = 1)\n",
    "    \n",
    "    return estDensity"
   ]
  },
  {
   "cell_type": "markdown",
   "id": "70445b85",
   "metadata": {},
   "source": [
    "Visualization for understanding the influence of 'h'"
   ]
  },
  {
   "cell_type": "code",
   "execution_count": 45,
   "id": "7188660e",
   "metadata": {},
   "outputs": [
    {
     "data": {
      "text/plain": [
       "<matplotlib.legend.Legend at 0x189fd5e05b0>"
      ]
     },
     "execution_count": 45,
     "metadata": {},
     "output_type": "execute_result"
    },
    {
     "data": {
      "image/png": "[encoded data removed]",
      "text/plain": [
       "<Figure size 432x288 with 1 Axes>"
      ]
     },
     "metadata": {
      "needs_background": "light"
     },
     "output_type": "display_data"
    }
   ],
   "source": [
    "import matplotlib.pyplot as plt\n",
    "h = parameters()\n",
    "\n",
    "# Produce the random samples\n",
    "samples = np.random.normal(0, 1, 100)\n",
    "\n",
    "# Compute the original normal distribution\n",
    "realDensity = gauss1D(0, 1, 100, 5)\n",
    "\n",
    "# Estimate the probability density using the KDE\n",
    "estDensity = kde(samples, h)\n",
    "\n",
    "\n",
    "# plot results\n",
    "# plt.subplot(2, 1, 1)\n",
    "plt.plot(estDensity[:, 0], estDensity[:, 1], 'r', linewidth=1.5, label='KDE Estimated Distribution')\n",
    "plt.plot(realDensity[:, 0], realDensity[:, 1], 'b', linewidth=1.5, label='Real Distribution')\n",
    "plt.legend()\n"
   ]
  },
  {
   "cell_type": "code",
   "execution_count": null,
   "id": "528483dd",
   "metadata": {},
   "outputs": [],
   "source": []
  }
 ],
 "metadata": {
  "kernelspec": {
   "display_name": "Python 3 (ipykernel)",
   "language": "python",
   "name": "python3"
  },
  "language_info": {
   "codemirror_mode": {
    "name": "ipython",
    "version": 3
   },
   "file_extension": ".py",
   "mimetype": "text/x-python",
   "name": "python",
   "nbconvert_exporter": "python",
   "pygments_lexer": "ipython3",
   "version": "3.8.6"
  }
 },
 "nbformat": 4,
 "nbformat_minor": 5
}
