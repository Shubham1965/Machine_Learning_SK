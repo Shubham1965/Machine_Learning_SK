{
 "cells": [
  {
   "cell_type": "markdown",
   "id": "3228e962",
   "metadata": {},
   "source": [
    "Include all dependencies:"
   ]
  },
  {
   "cell_type": "code",
   "execution_count": 67,
   "id": "49d5a511",
   "metadata": {},
   "outputs": [],
   "source": [
    "import numpy as np\n",
    "\n",
    "def gauss1D(m, v, N, w):\n",
    "    pos = np.arange(-w, w - w / N, 2 * w / N)\n",
    "    insE = -0.5 * ((pos - m) / v) ** 2\n",
    "    norm = 1 / (v * np.sqrt(2 * np.pi))\n",
    "    res = norm * np.exp(insE)\n",
    "    realDensity = np.stack((pos, res), axis=1)\n",
    "    return realDensity\n",
    "\n",
    "def parameters():\n",
    "    k = 20  # k nearest neighbours\n",
    "    return k"
   ]
  },
  {
   "cell_type": "markdown",
   "id": "8c6fd932",
   "metadata": {},
   "source": [
    "Calculate the k-nearest neighbours using the samples for the pos vector:"
   ]
  },
  {
   "cell_type": "code",
   "execution_count": 68,
   "id": "98c4271b",
   "metadata": {},
   "outputs": [],
   "source": [
    "def knn(samples, k):\n",
    "    # compute density estimation from samples with KNN\n",
    "    # Input\n",
    "    #  samples    : DxN matrix of data points\n",
    "    #  k          : number of neighbors\n",
    "    # Output\n",
    "    #  estDensity : estimated density in the range of [-5, 5]\n",
    "\n",
    "    #####Insert your code here for subtask 5b#####\n",
    "    # Compute the number of the samples created\n",
    "    n = len(samples)\n",
    "    \n",
    "    #Create a linearly spaced array\n",
    "    pos = np.arange(-5,5.0, 0.1)\n",
    "\n",
    "    #Distance of each pos in pos from the samples\n",
    "    dist = np.sort(np.abs(pos[np.newaxis, :] - samples[:, np.newaxis]), axis=0)\n",
    "    \n",
    "    # Density estimation using the k-NN density estimation\n",
    "    D_est = (k / (2 * n)) / dist[k - 1, :]\n",
    "\n",
    "    # Form the output variable\n",
    "    estDensity = np.stack((pos, D_est), axis=1)\n",
    "    \n",
    "    return estDensity"
   ]
  },
  {
   "cell_type": "markdown",
   "id": "0fb288f7",
   "metadata": {},
   "source": [
    "Visualizing results: "
   ]
  },
  {
   "cell_type": "code",
   "execution_count": 69,
   "id": "772728b9",
   "metadata": {},
   "outputs": [
    {
     "data": {
      "image/png": "[encoded data removed]",
      "text/plain": [
       "<Figure size 432x288 with 1 Axes>"
      ]
     },
     "metadata": {
      "needs_background": "light"
     },
     "output_type": "display_data"
    }
   ],
   "source": [
    "import matplotlib.pyplot as plt\n",
    "\n",
    "k = parameters()\n",
    "\n",
    "# Produce the random samples\n",
    "samples = np.random.normal(0, 1, 100)\n",
    "\n",
    "# Compute the original normal distribution\n",
    "realDensity = gauss1D(0, 1, 100, 5)\n",
    "\n",
    "# Estimate the probability density using KNN\n",
    "estDensity = knn(samples, k)\n",
    "\n",
    "# Plot the distributions\n",
    "plt.plot(estDensity[:, 0], estDensity[:, 1], 'r', linewidth=1.5, label='KNN Estimated Distribution')\n",
    "plt.plot(realDensity[:, 0], realDensity[:, 1], 'b', linewidth=1.5, label='Real Distribution')\n",
    "plt.legend()\n",
    "plt.show()"
   ]
  },
  {
   "cell_type": "code",
   "execution_count": null,
   "id": "decc6a87",
   "metadata": {},
   "outputs": [],
   "source": []
  },
  {
   "cell_type": "code",
   "execution_count": null,
   "id": "99414808",
   "metadata": {},
   "outputs": [],
   "source": []
  }
 ],
 "metadata": {
  "kernelspec": {
   "display_name": "Python 3 (ipykernel)",
   "language": "python",
   "name": "python3"
  },
  "language_info": {
   "codemirror_mode": {
    "name": "ipython",
    "version": 3
   },
   "file_extension": ".py",
   "mimetype": "text/x-python",
   "name": "python",
   "nbconvert_exporter": "python",
   "pygments_lexer": "ipython3",
   "version": "3.8.6"
  }
 },
 "nbformat": 4,
 "nbformat_minor": 5
}
